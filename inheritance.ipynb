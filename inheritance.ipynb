{
 "cells": [
  {
   "cell_type": "markdown",
   "metadata": {},
   "source": [
    "# Multilevel inheritance"
   ]
  },
  {
   "cell_type": "code",
   "execution_count": 2,
   "metadata": {},
   "outputs": [
    {
     "name": "stdout",
     "output_type": "stream",
     "text": [
      "this is grandfather class\n",
      "this is father class\n",
      "this is son class\n"
     ]
    }
   ],
   "source": [
    "\n",
    "\n",
    "class grandparent:\n",
    "    age = 80\n",
    "    def hello(self):\n",
    "        print(\"this is grandfather class\")\n",
    "\n",
    "class father(grandparent):\n",
    "    def hi(self):\n",
    "        print(\"this is father class\")\n",
    "\n",
    "class son(father):\n",
    "    def hey(self):\n",
    "        print(\"this is son class\")\n",
    "\n",
    "s=son()\n",
    "s.hello()\n",
    "s.hi()                \n",
    "s.hey()"
   ]
  },
  {
   "cell_type": "markdown",
   "metadata": {},
   "source": [
    "# Multiple Inheritance"
   ]
  },
  {
   "cell_type": "code",
   "execution_count": 6,
   "metadata": {},
   "outputs": [
    {
     "name": "stdout",
     "output_type": "stream",
     "text": [
      "sachin singh\n",
      "alwar\n"
     ]
    }
   ],
   "source": [
    "class grandfather:\n",
    " sirname =\"singh\"\n",
    "\n",
    "class father:\n",
    " address=\"alwar\"\n",
    "\n",
    "class son(grandfather,father):\n",
    " name=\"sachin\"\n",
    "\n",
    "s=son()\n",
    "print(s.name+\" \"+s.sirname)\n",
    "print(s.address)  "
   ]
  },
  {
   "cell_type": "markdown",
   "metadata": {},
   "source": [
    "# Encapsulation 😒"
   ]
  },
  {
   "cell_type": "code",
   "execution_count": 16,
   "metadata": {},
   "outputs": [
    {
     "name": "stdout",
     "output_type": "stream",
     "text": [
      "50k\n"
     ]
    }
   ],
   "source": [
    "class college:\n",
    "    collegename=\"LIET\" #public variable\n",
    "    address=\"alwar\"\n",
    "class faculty(college):\n",
    "    __Salary=\"50k\"   #private variable\n",
    "    Branch=\"CS\"\n",
    "    \n",
    "class student(faculty):\n",
    "    name=\"sachin\"    \n",
    "    sem=\"4th\"\n",
    "\n",
    "s=student()\n",
    "print(s.__Salary)"
   ]
  },
  {
   "cell_type": "code",
   "execution_count": 24,
   "metadata": {},
   "outputs": [
    {
     "name": "stdout",
     "output_type": "stream",
     "text": [
      "sachin\n",
      "4th\n",
      "CS\n",
      "LIET\n",
      "alwar\n"
     ]
    }
   ],
   "source": [
    "class college:\n",
    "    collegename=\"LIET\" #public variable\n",
    "    address=\"alwar\"\n",
    "class faculty(college):\n",
    "    __Salary=\"50k\"   #private variable\n",
    "    Branch=\"CS\"\n",
    "    \n",
    "class student(faculty):\n",
    "    name=\"sachin\"    \n",
    "    sem=\"4th\"\n",
    "    \n",
    "    \n",
    "    def disp(self):\n",
    "        print(self.name)\n",
    "        print(self.sem)\n",
    "        print(self.Branch)\n",
    "        print(self.collegename)\n",
    "        print(self.address)\n",
    "\n",
    "    def __init__(self):\n",
    "        self.disp()\n",
    "\n",
    "s=student()\n"
   ]
  },
  {
   "cell_type": "markdown",
   "metadata": {},
   "source": [
    "# Protected"
   ]
  },
  {
   "cell_type": "code",
   "execution_count": 26,
   "metadata": {},
   "outputs": [
    {
     "name": "stdout",
     "output_type": "stream",
     "text": [
      "sachin\n",
      "4th\n",
      "CS\n",
      "LIET\n",
      "alwar\n",
      "50k\n"
     ]
    }
   ],
   "source": [
    "class college:\n",
    "    collegename=\"LIET\" #public variable\n",
    "    address=\"alwar\"\n",
    "class faculty(college):\n",
    "    _Salary=\"50k\"   #protected variable\n",
    "    Branch=\"CS\"\n",
    "    \n",
    "class student(faculty):\n",
    "    name=\"sachin\"    \n",
    "    sem=\"4th\"\n",
    "    \n",
    "    \n",
    "    def disp(self):\n",
    "        print(self.name)\n",
    "        print(self.sem)\n",
    "        print(self.Branch)\n",
    "        print(self.collegename)\n",
    "        print(self.address)\n",
    "        print(self._Salary)\n",
    "\n",
    "    def __init__(self):\n",
    "        self.disp()\n",
    "\n",
    "s=student()"
   ]
  }
 ],
 "metadata": {
  "kernelspec": {
   "display_name": "Python 3",
   "language": "python",
   "name": "python3"
  },
  "language_info": {
   "codemirror_mode": {
    "name": "ipython",
    "version": 3
   },
   "file_extension": ".py",
   "mimetype": "text/x-python",
   "name": "python",
   "nbconvert_exporter": "python",
   "pygments_lexer": "ipython3",
   "version": "3.12.3"
  }
 },
 "nbformat": 4,
 "nbformat_minor": 2
}
