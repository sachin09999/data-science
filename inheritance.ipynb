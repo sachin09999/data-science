{
 "cells": [
  {
   "cell_type": "markdown",
   "metadata": {},
   "source": [
    "# Multilevel inheritance"
   ]
  },
  {
   "cell_type": "code",
   "execution_count": 2,
   "metadata": {},
   "outputs": [
    {
     "name": "stdout",
     "output_type": "stream",
     "text": [
      "this is grandfather class\n",
      "this is father class\n",
      "this is son class\n"
     ]
    }
   ],
   "source": [
    "\n",
    "\n",
    "class grandparent:\n",
    "    age = 80\n",
    "    def hello(self):\n",
    "        print(\"this is grandfather class\")\n",
    "\n",
    "class father(grandparent):\n",
    "    def hi(self):\n",
    "        print(\"this is father class\")\n",
    "\n",
    "class son(father):\n",
    "    def hey(self):\n",
    "        print(\"this is son class\")\n",
    "\n",
    "s=son()\n",
    "s.hello()\n",
    "s.hi()                \n",
    "s.hey()"
   ]
  },
  {
   "cell_type": "markdown",
   "metadata": {},
   "source": [
    "# Multiple Inheritance"
   ]
  },
  {
   "cell_type": "code",
   "execution_count": 6,
   "metadata": {},
   "outputs": [
    {
     "name": "stdout",
     "output_type": "stream",
     "text": [
      "sachin singh\n",
      "alwar\n"
     ]
    }
   ],
   "source": [
    "class grandfather:\n",
    " sirname =\"singh\"\n",
    "\n",
    "class father:\n",
    " address=\"alwar\"\n",
    "\n",
    "class son(grandfather,father):\n",
    " name=\"sachin\"\n",
    "\n",
    "s=son()\n",
    "print(s.name+\" \"+s.sirname)\n",
    "print(s.address)  "
   ]
  },
  {
   "cell_type": "markdown",
   "metadata": {},
   "source": [
    "# Encapsulation 😒"
   ]
  },
  {
   "cell_type": "code",
   "execution_count": 16,
   "metadata": {},
   "outputs": [
    {
     "name": "stdout",
     "output_type": "stream",
     "text": [
      "50k\n"
     ]
    }
   ],
   "source": [
    "class college:\n",
    "    collegename=\"LIET\" #public variable\n",
    "    address=\"alwar\"\n",
    "class faculty(college):\n",
    "    __Salary=\"50k\"   #private variable\n",
    "    Branch=\"CS\"\n",
    "    \n",
    "class student(faculty):\n",
    "    name=\"sachin\"    \n",
    "    sem=\"4th\"\n",
    "\n",
    "s=student()\n",
    "print(s.__Salary)"
   ]
  },
  {
   "cell_type": "code",
   "execution_count": 24,
   "metadata": {},
   "outputs": [
    {
     "name": "stdout",
     "output_type": "stream",
     "text": [
      "sachin\n",
      "4th\n",
      "CS\n",
      "LIET\n",
      "alwar\n"
     ]
    }
   ],
   "source": [
    "class college:\n",
    "    collegename=\"LIET\" #public variable\n",
    "    address=\"alwar\"\n",
    "class faculty(college):\n",
    "    __Salary=\"50k\"   #private variable\n",
    "    Branch=\"CS\"\n",
    "    \n",
    "class student(faculty):\n",
    "    name=\"sachin\"    \n",
    "    sem=\"4th\"\n",
    "    \n",
    "    \n",
    "    def disp(self):\n",
    "        print(self.name)\n",
    "        print(self.sem)\n",
    "        print(self.Branch)\n",
    "        print(self.collegename)\n",
    "        print(self.address)\n",
    "\n",
    "    def __init__(self):\n",
    "        self.disp()\n",
    "\n",
    "s=student()\n"
   ]
  },
  {
   "cell_type": "markdown",
   "metadata": {},
   "source": [
    "# Protected"
   ]
  },
  {
   "cell_type": "code",
   "execution_count": 26,
   "metadata": {},
   "outputs": [
    {
     "name": "stdout",
     "output_type": "stream",
     "text": [
      "sachin\n",
      "4th\n",
      "CS\n",
      "LIET\n",
      "alwar\n",
      "50k\n"
     ]
    }
   ],
   "source": [
    "class college:\n",
    "    collegename=\"LIET\" #public variable\n",
    "    address=\"alwar\"\n",
    "class faculty(college):\n",
    "    _Salary=\"50k\"   #protected variable\n",
    "    Branch=\"CS\"\n",
    "    \n",
    "class student(faculty):\n",
    "    name=\"sachin\"    \n",
    "    sem=\"4th\"\n",
    "    \n",
    "    \n",
    "    def disp(self):\n",
    "        print(self.name)\n",
    "        print(self.sem)\n",
    "        print(self.Branch)\n",
    "        print(self.collegename)\n",
    "        print(self.address)\n",
    "        print(self._Salary)\n",
    "\n",
    "    def __init__(self):\n",
    "        self.disp()\n",
    "\n",
    "s=student()"
   ]
  },
  {
   "cell_type": "markdown",
   "metadata": {},
   "source": [
    "# Polymorphism"
   ]
  },
  {
   "cell_type": "code",
   "execution_count": 39,
   "metadata": {},
   "outputs": [
    {
     "ename": "TypeError",
     "evalue": "area1.area() missing 1 required positional argument: 'r'",
     "output_type": "error",
     "traceback": [
      "\u001b[1;31m---------------------------------------------------------------------------\u001b[0m",
      "\u001b[1;31mTypeError\u001b[0m                                 Traceback (most recent call last)",
      "Cell \u001b[1;32mIn[39], line 13\u001b[0m\n\u001b[0;32m      9\u001b[0m         \u001b[38;5;28mprint\u001b[39m(\u001b[38;5;124m\"\u001b[39m\u001b[38;5;124marea of circle \u001b[39m\u001b[38;5;124m\"\u001b[39m,\u001b[38;5;241m3.14\u001b[39m\u001b[38;5;241m*\u001b[39mr\u001b[38;5;241m*\u001b[39mr)\n\u001b[0;32m     12\u001b[0m a\u001b[38;5;241m=\u001b[39marea1()\n\u001b[1;32m---> 13\u001b[0m \u001b[43ma\u001b[49m\u001b[38;5;241;43m.\u001b[39;49m\u001b[43marea\u001b[49m\u001b[43m(\u001b[49m\u001b[43m)\u001b[49m\n\u001b[0;32m     14\u001b[0m a\u001b[38;5;241m.\u001b[39marea(\u001b[38;5;241m4\u001b[39m)  \n",
      "\u001b[1;31mTypeError\u001b[0m: area1.area() missing 1 required positional argument: 'r'"
     ]
    }
   ],
   "source": [
    "class area1:\n",
    "\n",
    "    def area(self):\n",
    "        l=4\n",
    "        b=5\n",
    "        print(\"area of rectangle \",l*b)\n",
    "\n",
    "    def area(self,r):\n",
    "        radius=self.r\n",
    "        print(\"area of circle \",3.14*radius*radius)\n",
    "        \n",
    "\n",
    "a=area1()\n",
    "a.area()\n",
    "a.area(4)  \n",
    "\n",
    "\n"
   ]
  }
 ],
 "metadata": {
  "kernelspec": {
   "display_name": "Python 3",
   "language": "python",
   "name": "python3"
  },
  "language_info": {
   "codemirror_mode": {
    "name": "ipython",
    "version": 3
   },
   "file_extension": ".py",
   "mimetype": "text/x-python",
   "name": "python",
   "nbconvert_exporter": "python",
   "pygments_lexer": "ipython3",
   "version": "3.12.3"
  }
 },
 "nbformat": 4,
 "nbformat_minor": 2
}
