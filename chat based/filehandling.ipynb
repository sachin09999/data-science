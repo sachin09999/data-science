{
 "cells": [
  {
   "cell_type": "markdown",
   "metadata": {},
   "source": [
    "# File Handling"
   ]
  },
  {
   "cell_type": "markdown",
   "metadata": {},
   "source": [
    "# Read()"
   ]
  },
  {
   "cell_type": "code",
   "execution_count": 11,
   "metadata": {},
   "outputs": [
    {
     "name": "stdout",
     "output_type": "stream",
     "text": [
      "The rusty airship groaned as it lurched through the twilight sky,\n",
      "its patched canvas hull casting an eerie shadow on the bustling city below.\n",
      "Inside, a motley crew of adventurers huddled around a flickering map,\n",
      "their faces etched with a mixture of trepidation and excitement.\n",
      "Their quest: to locate the legendary Sunstone,\n",
      "a mythical gem rumored to hold the power to control the very tides of time. \n",
      "Their journey would take them across treacherous mountain ranges, through forgotten ruins,\n",
      "and into the heart of a forgotten civilization,\n",
      " all in a race against a shadowy syndicate also seeking the stone's power.\n"
     ]
    }
   ],
   "source": [
    "f=open(\"a.txt\",'r')\n",
    "print(f.read())\n",
    "f.close()"
   ]
  },
  {
   "cell_type": "markdown",
   "metadata": {},
   "source": [
    " read using for loop"
   ]
  },
  {
   "cell_type": "code",
   "execution_count": 16,
   "metadata": {},
   "outputs": [
    {
     "name": "stdout",
     "output_type": "stream",
     "text": [
      "The rusty airship groaned as it lurched through the twilight sky,\n",
      "its patched canvas hull casting an"
     ]
    }
   ],
   "source": [
    "f=open(\"a.txt\",'r')\n",
    "a=f.read(100)\n",
    "for i in a:\n",
    "    print(i,end=\"\")"
   ]
  },
  {
   "cell_type": "code",
   "execution_count": 21,
   "metadata": {},
   "outputs": [
    {
     "name": "stdout",
     "output_type": "stream",
     "text": [
      "The rusty airship groaned as it lurched through the twilight sky,\n",
      "\n",
      "its patched canvas hull casting an eerie shadow on the bustling city below.\n",
      "\n"
     ]
    }
   ],
   "source": [
    "f=open(\"a.txt\",'r')\n",
    "print(f.readline())\n",
    "print(f.readline())\n",
    "f.close()\n",
    "\n"
   ]
  },
  {
   "cell_type": "markdown",
   "metadata": {},
   "source": [
    "# write() "
   ]
  },
  {
   "cell_type": "code",
   "execution_count": 44,
   "metadata": {},
   "outputs": [
    {
     "name": "stdout",
     "output_type": "stream",
     "text": [
      "enter the information \n"
     ]
    }
   ],
   "source": [
    "f=open(\"a.txt\",'a')\n",
    "f.write(\"enter the information \")                 \n",
    "f.close()\n",
    "f=open(\"a.txt\",'r')\n",
    "print(f.read())"
   ]
  },
  {
   "cell_type": "code",
   "execution_count": 47,
   "metadata": {},
   "outputs": [
    {
     "name": "stdout",
     "output_type": "stream",
     "text": [
      "file is not present in directory\n"
     ]
    }
   ],
   "source": [
    "try:\n",
    "    with open(\"a.txt\",'x') as f:\n",
    "        f.write(\"my name is sachin\")\n",
    "        f.close()\n",
    "except Exception as e:\n",
    "    print(\"file is not present in directory\")\n",
    "\n",
    "else:\n",
    "    print(\"successfully appended the data in given file\")            "
   ]
  }
 ],
 "metadata": {
  "kernelspec": {
   "display_name": "Python 3",
   "language": "python",
   "name": "python3"
  },
  "language_info": {
   "codemirror_mode": {
    "name": "ipython",
    "version": 3
   },
   "file_extension": ".py",
   "mimetype": "text/x-python",
   "name": "python",
   "nbconvert_exporter": "python",
   "pygments_lexer": "ipython3",
   "version": "3.12.3"
  }
 },
 "nbformat": 4,
 "nbformat_minor": 2
}
