{
 "cells": [
  {
   "cell_type": "markdown",
   "metadata": {},
   "source": [
    "# Q1."
   ]
  },
  {
   "cell_type": "code",
   "execution_count": 4,
   "metadata": {},
   "outputs": [
    {
     "data": {
      "text/plain": [
       "50.24"
      ]
     },
     "execution_count": 4,
     "metadata": {},
     "output_type": "execute_result"
    }
   ],
   "source": [
    "class area:\n",
    " def calculate_area(self):\n",
    "   r=int(input(\"enter the radius :\"))\n",
    "   area=3.14*r*r\n",
    "   return area\n",
    "a=area()\n",
    "a.calculate_area()"
   ]
  },
  {
   "cell_type": "markdown",
   "metadata": {},
   "source": [
    "# Q2."
   ]
  },
  {
   "cell_type": "code",
   "execution_count": 9,
   "metadata": {},
   "outputs": [
    {
     "name": "stdout",
     "output_type": "stream",
     "text": [
      "4019.6800000000003\n"
     ]
    }
   ],
   "source": [
    "class price:\n",
    " def calculate_discount(self):\n",
    "  orignal_price=int(input(\"enter the price\"))\n",
    "  discount=int(input(\"enter the discount percentage\"))\n",
    "  discount_price=(orignal_price/100)*discount\n",
    "  final_price=orignal_price-discount_price\n",
    "  print(final_price)\n",
    "\n",
    "p=price()\n",
    "p.calculate_discount() \n",
    "\n",
    "\n"
   ]
  },
  {
   "cell_type": "markdown",
   "metadata": {},
   "source": [
    "# Q3."
   ]
  },
  {
   "cell_type": "code",
   "execution_count": 5,
   "metadata": {},
   "outputs": [
    {
     "name": "stdout",
     "output_type": "stream",
     "text": [
      "Total vowels in 'aeiou': 5\n"
     ]
    }
   ],
   "source": [
    "class VowelCounter:\n",
    "    def count_vowels(self, input_string: str) -> int:\n",
    "        \n",
    "        vowels = \"aeiouAEIOU\"\n",
    "        count = 0\n",
    "        for char in input_string:\n",
    "            if char in vowels:\n",
    "                count += 1\n",
    "        return count\n",
    "counter = VowelCounter()\n",
    "input_str = input(\"enter the string \")\n",
    "result = counter.count_vowels(input_str)\n",
    "print(f\"Total vowels in '{input_str}': {result}\")\n",
    "\n",
    "   "
   ]
  }
 ],
 "metadata": {
  "kernelspec": {
   "display_name": "Python 3",
   "language": "python",
   "name": "python3"
  },
  "language_info": {
   "codemirror_mode": {
    "name": "ipython",
    "version": 3
   },
   "file_extension": ".py",
   "mimetype": "text/x-python",
   "name": "python",
   "nbconvert_exporter": "python",
   "pygments_lexer": "ipython3",
   "version": "3.12.3"
  }
 },
 "nbformat": 4,
 "nbformat_minor": 2
}
